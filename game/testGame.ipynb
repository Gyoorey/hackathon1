{
 "cells": [
  {
   "cell_type": "code",
   "execution_count": 1,
   "metadata": {},
   "outputs": [
    {
     "name": "stdout",
     "output_type": "stream",
     "text": [
      "Processing: steps\\gen1.txt\n",
      "Processing: steps\\gen15.txt\n",
      "Processing: steps\\gen27.txt\n"
     ]
    }
   ],
   "source": [
    "from game import Game\n",
    "\n",
    "g1 = Game()\n",
    "g1.processLogfile(1)\n",
    "g2 = Game()\n",
    "g2.processLogfile(15)\n",
    "g3 = Game()\n",
    "g3.processLogfile(27)\n",
    "#seq = [1,1,1,1,1,1,-1,-1,-1,-1,-1,-1,1,1,1,-1,-1,-1]\n",
    "#g.animateSeq(seq,'out1.avi')\n"
   ]
  },
  {
   "cell_type": "code",
   "execution_count": null,
   "metadata": {},
   "outputs": [],
   "source": []
  }
 ],
 "metadata": {
  "kernelspec": {
   "display_name": "Python 3",
   "language": "python",
   "name": "python3"
  },
  "language_info": {
   "codemirror_mode": {
    "name": "ipython",
    "version": 3
   },
   "file_extension": ".py",
   "mimetype": "text/x-python",
   "name": "python",
   "nbconvert_exporter": "python",
   "pygments_lexer": "ipython3",
   "version": "3.6.1"
  }
 },
 "nbformat": 4,
 "nbformat_minor": 2
}
