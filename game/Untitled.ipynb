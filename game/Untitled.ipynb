{
 "cells": [
  {
   "cell_type": "code",
   "execution_count": null,
   "metadata": {},
   "outputs": [],
   "source": [
    "import turtle\n",
    "import random\n",
    "from random import Random\n",
    "import os\n",
    "import numpy as np"
   ]
  },
  {
   "cell_type": "code",
   "execution_count": null,
   "metadata": {},
   "outputs": [],
   "source": [
    "H = 600\n",
    "W = 820\n",
    "player_offset = 10\n",
    "player_y = -H/2+player_offset\n",
    "playerwidth = 30\n",
    "playerspeed = W/41\n",
    "\n",
    "class Game:\n",
    "    def __init__(self):\n",
    "        self.x = 0\n",
    "        self.screen = None\n",
    "        self.player = None\n",
    "        self.asteroids =[]\n",
    "        self.ast_thresh = 0.95\n",
    "        self.iter_cnt = 0\n",
    "        self.ast_speed = 10\n",
    "        self.r = Random(0)\n",
    "        self.ended = False\n",
    "\n",
    "    def exit(self):\n",
    "        turtle.done()\n",
    "        \n",
    "    def show(self):\n",
    "        self.screen = turtle.Screen()\n",
    "        self.screen.setup(W+20,H+20)\n",
    "        self.screen.bgcolor(\"pink\")\n",
    "        self.screen.title(\"Hackathon Invaders\")\n",
    "        #draw border\n",
    "        border_pen = turtle.Turtle()\n",
    "        border_pen.speed(0)\n",
    "        border_pen.penup()\n",
    "        border_pen.setposition(-W/2,H/2)\n",
    "        border_pen.pendown()\n",
    "        border_pen.pensize(3)\n",
    "        border_pen.fd(W)\n",
    "        border_pen.rt(90)\n",
    "        border_pen.fd(H)\n",
    "        border_pen.rt(90)\n",
    "        border_pen.fd(W)\n",
    "        border_pen.rt(90)\n",
    "        border_pen.fd(H)\n",
    "        border_pen.hideturtle()\n",
    "        #draw player\n",
    "        self.player = turtle.Turtle()\n",
    "        self.player.color(\"black\")\n",
    "        self.player.shape(\"triangle\")\n",
    "        self.player.penup()\n",
    "        self.player.speed(0)\n",
    "        self.player.setposition(self.x, player_y)\n",
    "        self.player.setheading(90)\n",
    "        #draw asteroids\n",
    "        \n",
    "        \n",
    "        \n",
    "    def iterate(self, key):\n",
    "        if(self.ended):\n",
    "            return (self.iter_cnt, self.ended)\n",
    "        if key==-1 and self.x>-W/2+playerspeed:\n",
    "            self.x -= playerspeed\n",
    "        if key==1 and self.x<W/2-playerspeed:\n",
    "            self.x += playerspeed\n",
    "        #move asteroids\n",
    "        for i in range(len(self.asteroids)):\n",
    "            self.asteroids[i][1] = self.asteroids[i][1]-self.ast_speed\n",
    "        #check collision\n",
    "        for asteroid in self.asteroids:\n",
    "            if abs(self.x-asteroid[0])<playerwidth and asteroid[1]<=player_y+playerwidth:\n",
    "                self.ended = True\n",
    "                return (self.iter_cnt, self.ended)\n",
    "                #kill the game\n",
    "        #kill asteroids\n",
    "        to_delete = []\n",
    "        for i in range(len(self.asteroids)):\n",
    "            if self.asteroids[i][1]<(-H/2):\n",
    "                to_delete = [i] + to_delete\n",
    "        #print(\"New iter\")\n",
    "        #print(self.asteroids)\n",
    "        #print(to_delete)\n",
    "        if len(to_delete)>0:\n",
    "            for i in range(len(to_delete)):\n",
    "                del self.asteroids[to_delete[i]]\n",
    "        #print(self.asteroids)\n",
    "        #generate asteroids\n",
    "        if self.r.random() > self.ast_thresh:\n",
    "            temp_x = self.r.random()*W\n",
    "            temp_x = round (temp_x / 20) * 20\n",
    "            temp_x -= W/2\n",
    "            self.asteroids.append([temp_x, H/2])\n",
    "            #self.asteroids[-1].color(\"red\")\n",
    "            #self.asteroids[-1].shape(\"circle\")\n",
    "            #self.asteroids[-1].penup()\n",
    "            #self.asteroids[-1].speed(0)\n",
    "            #self.asteroids[-1].setheading(270)\n",
    "            #self.asteroids[-1].setposition(temp_x, H/2)\n",
    "        #change speed if needed\n",
    "        if (self.iter_cnt%50)==0:\n",
    "            self.ast_thresh -= 0.1\n",
    "            self.ast_speed += 5\n",
    "        #incr. iter_cnt\n",
    "        self.iter_cnt += 1\n",
    "        return (self.iter_cnt, self.ended)\n",
    "    \n",
    "    def generateOutput(self):\n",
    "        out = np.ones((1,42))\n",
    "        for asteroid in self.asteroids:\n",
    "            if(out[0][round ((asteroid[0]+W/2) / 20)] > (asteroid[1]+H/2)/H):\n",
    "                out[0][round ((asteroid[0]+W/2) / 20)] = (asteroid[1]+H/2)/H\n",
    "        out[0][41] = (self.x*2)/W\n",
    "        return out"
   ]
  },
  {
   "cell_type": "code",
   "execution_count": null,
   "metadata": {},
   "outputs": [],
   "source": [
    "game = Game()\n",
    "for iter in range(100):\n",
    "    (fitness, ended) = game.iterate(-1)\n",
    "    print(\"iteration %d\" % iter )\n",
    "    print(game.generateOutput())\n",
    "    #game.show()\n",
    "    if ended:\n",
    "        break\n",
    "    #delay(100)\n",
    "game.exit()"
   ]
  },
  {
   "cell_type": "code",
   "execution_count": null,
   "metadata": {},
   "outputs": [],
   "source": [
    "game.exit()"
   ]
  },
  {
   "cell_type": "code",
   "execution_count": 19,
   "metadata": {},
   "outputs": [
    {
     "ename": "TypeError",
     "evalue": "'int' object is not callable",
     "traceback": [
      "\u001b[1;31m---------------------------------------------------------------------------\u001b[0m",
      "\u001b[1;31mTypeError\u001b[0m                                 Traceback (most recent call last)",
      "\u001b[1;32m<ipython-input-19-586e348e0e90>\u001b[0m in \u001b[0;36m<module>\u001b[1;34m()\u001b[0m\n\u001b[1;32m----> 1\u001b[1;33m \u001b[0mrandom\u001b[0m\u001b[1;33m.\u001b[0m\u001b[0mseed\u001b[0m\u001b[1;33m(\u001b[0m\u001b[1;36m9001\u001b[0m\u001b[1;33m)\u001b[0m\u001b[1;33m\u001b[0m\u001b[0m\n\u001b[0m\u001b[0;32m      2\u001b[0m \u001b[0mprint\u001b[0m\u001b[1;33m(\u001b[0m\u001b[0mrandom\u001b[0m\u001b[1;33m.\u001b[0m\u001b[0muniform\u001b[0m\u001b[1;33m(\u001b[0m\u001b[1;36m0.0\u001b[0m\u001b[1;33m,\u001b[0m\u001b[1;36m1.0\u001b[0m\u001b[1;33m)\u001b[0m\u001b[1;33m)\u001b[0m\u001b[1;33m\u001b[0m\u001b[0m\n\u001b[0;32m      3\u001b[0m \u001b[0mprint\u001b[0m\u001b[1;33m(\u001b[0m\u001b[0mrandom\u001b[0m\u001b[1;33m.\u001b[0m\u001b[0muniform\u001b[0m\u001b[1;33m(\u001b[0m\u001b[1;36m0.0\u001b[0m\u001b[1;33m,\u001b[0m\u001b[1;36m1.0\u001b[0m\u001b[1;33m)\u001b[0m\u001b[1;33m)\u001b[0m\u001b[1;33m\u001b[0m\u001b[0m\n\u001b[0;32m      4\u001b[0m \u001b[0mprint\u001b[0m\u001b[1;33m(\u001b[0m\u001b[0mrandom\u001b[0m\u001b[1;33m.\u001b[0m\u001b[0muniform\u001b[0m\u001b[1;33m(\u001b[0m\u001b[1;36m0.0\u001b[0m\u001b[1;33m,\u001b[0m\u001b[1;36m1.0\u001b[0m\u001b[1;33m)\u001b[0m\u001b[1;33m)\u001b[0m\u001b[1;33m\u001b[0m\u001b[0m\n\u001b[0;32m      5\u001b[0m \u001b[0mprint\u001b[0m\u001b[1;33m(\u001b[0m\u001b[0mrandom\u001b[0m\u001b[1;33m.\u001b[0m\u001b[0muniform\u001b[0m\u001b[1;33m(\u001b[0m\u001b[1;36m0.0\u001b[0m\u001b[1;33m,\u001b[0m\u001b[1;36m1.0\u001b[0m\u001b[1;33m)\u001b[0m\u001b[1;33m)\u001b[0m\u001b[1;33m\u001b[0m\u001b[0m\n",
      "\u001b[1;31mTypeError\u001b[0m: 'int' object is not callable"
     ],
     "output_type": "error"
    }
   ],
   "source": [
    "random.seed(9001)  \n",
    "print(random.uniform(0.0,1.0))\n",
    "print(random.uniform(0.0,1.0))\n",
    "print(random.uniform(0.0,1.0))\n",
    "print(random.uniform(0.0,1.0))"
   ]
  },
  {
   "cell_type": "code",
   "execution_count": 13,
   "metadata": {},
   "outputs": [
    {
     "name": "stdout",
     "output_type": "stream",
     "text": [
      "0.0661259174730413\n",
      "0.7690375274506418\n",
      "0.12488143316356537\n",
      "0.5294157731118927\n"
     ]
    }
   ],
   "source": [
    "random.seed = 0\n",
    "print(random.uniform(0.0,1.0))\n",
    "print(random.uniform(0.0,1.0))\n",
    "print(random.uniform(0.0,1.0))\n",
    "print(random.uniform(0.0,1.0))"
   ]
  },
  {
   "cell_type": "code",
   "execution_count": 23,
   "metadata": {},
   "outputs": [
    {
     "name": "stdout",
     "output_type": "stream",
     "text": [
      "0.8444218515250481\n"
     ]
    }
   ],
   "source": [
    "r = Random(0)\n",
    "print(r.random())"
   ]
  },
  {
   "cell_type": "code",
   "execution_count": 24,
   "metadata": {},
   "outputs": [
    {
     "name": "stdout",
     "output_type": "stream",
     "text": [
      "0.8444218515250481\n"
     ]
    }
   ],
   "source": [
    "r = Random(0)\n",
    "print(r.random())"
   ]
  },
  {
   "cell_type": "code",
   "execution_count": 25,
   "metadata": {},
   "outputs": [
    {
     "name": "stdout",
     "output_type": "stream",
     "text": [
      "0.8444218515250481\n"
     ]
    }
   ],
   "source": [
    "r = Random(0)\n",
    "print(r.random())"
   ]
  },
  {
   "cell_type": "code",
   "execution_count": null,
   "metadata": {},
   "outputs": [],
   "source": []
  }
 ],
 "metadata": {
  "kernelspec": {
   "display_name": "Python 3",
   "language": "python",
   "name": "python3"
  },
  "language_info": {
   "codemirror_mode": {
    "name": "ipython",
    "version": 3
   },
   "file_extension": ".py",
   "mimetype": "text/x-python",
   "name": "python",
   "nbconvert_exporter": "python",
   "pygments_lexer": "ipython3",
   "version": "3.6.1"
  }
 },
 "nbformat": 4,
 "nbformat_minor": 2
}
