{
 "cells": [
  {
   "cell_type": "code",
   "execution_count": null,
   "metadata": {},
   "outputs": [],
   "source": [
    "import turtle\n"
   ]
  },
  {
   "cell_type": "code",
   "execution_count": 2,
   "metadata": {},
   "outputs": [],
   "source": [
    "H = 600\n",
    "W = 800\n",
    "player_offset = 10\n",
    "playerspeed = W/40\n",
    "player_y = -H/2+player_offset\n",
    "playerwidth = 50\n",
    "\n",
    "class Game:\n",
    "    def __init__(self):\n",
    "        self.x = 0\n",
    "        self.screen = None\n",
    "        self.player = None\n",
    "\n",
    "    def exit(self):\n",
    "        turtle.done()\n",
    "        \n",
    "    def show(self):\n",
    "        self.screen = turtle.Screen()\n",
    "        self.screen.setup(W+20,H+20)\n",
    "        self.screen.bgcolor(\"pink\")\n",
    "        self.screen.title(\"Hackathon Invaders\")\n",
    "        #draw border\n",
    "        border_pen = turtle.Turtle()\n",
    "        border_pen.speed(0)\n",
    "        border_pen.penup()\n",
    "        border_pen.setposition(-W/2,H/2)\n",
    "        border_pen.pendown()\n",
    "        border_pen.pensize(3)\n",
    "        border_pen.fd(W)\n",
    "        border_pen.rt(90)\n",
    "        border_pen.fd(H)\n",
    "        border_pen.rt(90)\n",
    "        border_pen.fd(W)\n",
    "        border_pen.rt(90)\n",
    "        border_pen.fd(H)\n",
    "        border_pen.hideturtle()\n",
    "        #draw player\n",
    "        self.player = turtle.Turtle()\n",
    "        self.player.color(\"black\")\n",
    "        self.player.shape(\"triangle\")\n",
    "        self.player.penup()\n",
    "        self.player.speed(0)\n",
    "        self.player.setposition(self.x, player_y)\n",
    "        self.player.setheading(90)\n",
    "\n",
    "    def iterate(self, key):\n",
    "        if key==-1 and self.x>-H/2+playerspeed:\n",
    "            self.x -= playerspeed\n",
    "        if key==1 and self.x<H/2-playerspeed:\n",
    "            self.x += playerspeed"
   ]
  },
  {
   "cell_type": "code",
   "execution_count": 3,
   "metadata": {},
   "outputs": [],
   "source": [
    "game = Game()\n",
    "game.show()\n",
    "game.iterate(-1)\n",
    "game.show()\n",
    "game.iterate(-1)\n",
    "game.show()\n",
    "game.exit()"
   ]
  },
  {
   "cell_type": "code",
   "execution_count": null,
   "metadata": {},
   "outputs": [],
   "source": []
  }
 ],
 "metadata": {
  "kernelspec": {
   "display_name": "Python 3",
   "language": "python",
   "name": "python3"
  },
  "language_info": {
   "codemirror_mode": {
    "name": "ipython",
    "version": 3
   },
   "file_extension": ".py",
   "mimetype": "text/x-python",
   "name": "python",
   "nbconvert_exporter": "python",
   "pygments_lexer": "ipython3",
   "version": "3.6.1"
  }
 },
 "nbformat": 4,
 "nbformat_minor": 2
}
