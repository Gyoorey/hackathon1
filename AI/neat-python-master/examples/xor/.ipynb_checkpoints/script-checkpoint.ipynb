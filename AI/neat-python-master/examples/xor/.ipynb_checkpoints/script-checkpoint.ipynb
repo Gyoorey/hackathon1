{
 "cells": [
  {
   "cell_type": "code",
   "execution_count": 1,
   "metadata": {},
   "outputs": [],
   "source": [
    "from __future__ import print_function"
   ]
  },
  {
   "cell_type": "code",
   "execution_count": 2,
   "metadata": {},
   "outputs": [],
   "source": [
    "import neat"
   ]
  },
  {
   "cell_type": "code",
   "execution_count": 3,
   "metadata": {},
   "outputs": [],
   "source": [
    "import os"
   ]
  },
  {
   "cell_type": "code",
   "execution_count": 6,
   "metadata": {},
   "outputs": [],
   "source": [
    "import visualize"
   ]
  },
  {
   "cell_type": "code",
   "execution_count": 33,
   "metadata": {},
   "outputs": [],
   "source": [
    "# 2-input XOR inputs and expected outputs.\n",
    "# xor_inputs = [(0.0, 0.0), (0.0, 1.0), (1.0, 0.0), (1.0, 1.0)]\n",
    "# xor_outputs = [   (0.0,),     (1.0,),     (1.0,),     (0.0,)]\n",
    "\n",
    "# size = 12\n",
    "xor_inputs = [(21,21,21,21,21,8,21,21,21,21,21,5)]\n",
    "xor_outputs = [(0,1,0)]"
   ]
  },
  {
   "cell_type": "code",
   "execution_count": 34,
   "metadata": {},
   "outputs": [],
   "source": [
    "def eval_genomes(genomes, config):\n",
    "    for genome_id, genome in genomes:\n",
    "        #genome.fitness = 5.0\n",
    "        net = neat.nn.FeedForwardNetwork.create(genome, config)\n",
    "        for xi, xo in zip(xor_inputs, xor_outputs):\n",
    "            output = net.activate(xi)\n",
    "            #genome.fitness -= (output[0] - xo[0]) ** 2"
   ]
  },
  {
   "cell_type": "code",
   "execution_count": 37,
   "metadata": {},
   "outputs": [],
   "source": [
    "def run(config_file):\n",
    "    # Load configuration.\n",
    "    config = neat.Config(neat.DefaultGenome, neat.DefaultReproduction,\n",
    "                         neat.DefaultSpeciesSet, neat.DefaultStagnation,\n",
    "                         config_file)\n",
    "\n",
    "    # Create the population, which is the top-level object for a NEAT run.\n",
    "    p = neat.Population(config)\n",
    "\n",
    "    # Add a stdout reporter to show progress in the terminal.\n",
    "    p.add_reporter(neat.StdOutReporter(True))\n",
    "    stats = neat.StatisticsReporter()\n",
    "    p.add_reporter(stats)\n",
    "    p.add_reporter(neat.Checkpointer(5))\n",
    "\n",
    "    # Run for up to 300 generations.\n",
    "    winner = p.run(eval_genomes, 300)\n",
    "\n",
    "    # Display the winning genome.\n",
    "    print('\\nBest genome:\\n{!s}'.format(winner))\n",
    "\n",
    "    # Show output of the most fit genome against training data.\n",
    "    print('\\nOutput:')\n",
    "    winner_net = neat.nn.FeedForwardNetwork.create(winner, config)\n",
    "    for xi, xo in zip(xor_inputs, xor_outputs):\n",
    "        output = winner_net.activate(xi)\n",
    "        print(\"input {!r}, expected output {!r}, got {!r}\".format(xi, xo, output))\n",
    "\n",
    "    node_names = {-1:'A', -2: 'B', 0:'A XOR B'}\n",
    "    #visualize.draw_net(config, winner, True, node_names=node_names)\n",
    "    #visualize.plot_stats(stats, ylog=False, view=True)\n",
    "    #visualize.plot_species(stats, view=True)\n",
    "\n",
    "    p = neat.Checkpointer.restore_checkpoint('neat-checkpoint-4')\n",
    "    p.run(eval_genomes, 10)"
   ]
  },
  {
   "cell_type": "code",
   "execution_count": 39,
   "metadata": {
    "scrolled": false
   },
   "outputs": [
    {
     "name": "stdout",
     "output_type": "stream",
     "text": [
      "\n",
      " ****** Running generation 0 ****** \n",
      "\n",
      "Population's average fitness: 5.00000 stdev: 0.00000\n",
      "Best fitness: 5.00000 - size: (3, 36) - species 1 - id 1\n",
      "\n",
      "Best individual in generation 0 meets fitness threshold - complexity: (3, 36)\n",
      "\n",
      "Best genome:\n",
      "Key: 1\n",
      "Fitness: 5.0\n",
      "Nodes:\n",
      "\t0 DefaultNodeGene(key=0, bias=-1.5138432928622212, response=1.0, activation=sigmoid, aggregation=sum)\n",
      "\t1 DefaultNodeGene(key=1, bias=0.04021658365496402, response=1.0, activation=sigmoid, aggregation=sum)\n",
      "\t2 DefaultNodeGene(key=2, bias=-0.9481064935232307, response=1.0, activation=sigmoid, aggregation=sum)\n",
      "Connections:\n",
      "\tDefaultConnectionGene(key=(-12, 0), weight=0.8445854675363087, enabled=True)\n",
      "\tDefaultConnectionGene(key=(-12, 1), weight=2.156765629251879, enabled=True)\n",
      "\tDefaultConnectionGene(key=(-12, 2), weight=-0.5364748154438566, enabled=True)\n",
      "\tDefaultConnectionGene(key=(-11, 0), weight=-0.5332009741631883, enabled=True)\n",
      "\tDefaultConnectionGene(key=(-11, 1), weight=0.2717494885151908, enabled=True)\n",
      "\tDefaultConnectionGene(key=(-11, 2), weight=-0.7745721044878748, enabled=True)\n",
      "\tDefaultConnectionGene(key=(-10, 0), weight=0.8408429883823059, enabled=True)\n",
      "\tDefaultConnectionGene(key=(-10, 1), weight=0.9553743529211985, enabled=True)\n",
      "\tDefaultConnectionGene(key=(-10, 2), weight=0.39315704500427007, enabled=True)\n",
      "\tDefaultConnectionGene(key=(-9, 0), weight=-0.7060354922932683, enabled=True)\n",
      "\tDefaultConnectionGene(key=(-9, 1), weight=0.29501528220257905, enabled=True)\n",
      "\tDefaultConnectionGene(key=(-9, 2), weight=-0.3031978098117905, enabled=True)\n",
      "\tDefaultConnectionGene(key=(-8, 0), weight=0.3215172598948288, enabled=True)\n",
      "\tDefaultConnectionGene(key=(-8, 1), weight=1.3595471505716625, enabled=True)\n",
      "\tDefaultConnectionGene(key=(-8, 2), weight=0.9839456450537583, enabled=True)\n",
      "\tDefaultConnectionGene(key=(-7, 0), weight=0.427234918224316, enabled=True)\n",
      "\tDefaultConnectionGene(key=(-7, 1), weight=-0.7041174197660149, enabled=True)\n",
      "\tDefaultConnectionGene(key=(-7, 2), weight=-2.041709332178507, enabled=True)\n",
      "\tDefaultConnectionGene(key=(-6, 0), weight=0.36012409107615445, enabled=True)\n",
      "\tDefaultConnectionGene(key=(-6, 1), weight=0.41334796700217896, enabled=True)\n",
      "\tDefaultConnectionGene(key=(-6, 2), weight=-0.3342759761109606, enabled=True)\n",
      "\tDefaultConnectionGene(key=(-5, 0), weight=0.817534631315264, enabled=True)\n",
      "\tDefaultConnectionGene(key=(-5, 1), weight=0.038580382246561594, enabled=True)\n",
      "\tDefaultConnectionGene(key=(-5, 2), weight=-1.0599207101065777, enabled=True)\n",
      "\tDefaultConnectionGene(key=(-4, 0), weight=-0.4774444677089128, enabled=True)\n",
      "\tDefaultConnectionGene(key=(-4, 1), weight=-0.22156256520406337, enabled=True)\n",
      "\tDefaultConnectionGene(key=(-4, 2), weight=-0.15467792769951613, enabled=True)\n",
      "\tDefaultConnectionGene(key=(-3, 0), weight=-0.5028008046668464, enabled=True)\n",
      "\tDefaultConnectionGene(key=(-3, 1), weight=-1.8661910304365599, enabled=True)\n",
      "\tDefaultConnectionGene(key=(-3, 2), weight=3.128652493169615, enabled=True)\n",
      "\tDefaultConnectionGene(key=(-2, 0), weight=-0.14200335813549805, enabled=True)\n",
      "\tDefaultConnectionGene(key=(-2, 1), weight=-0.5518279047345195, enabled=True)\n",
      "\tDefaultConnectionGene(key=(-2, 2), weight=0.49184951254254966, enabled=True)\n",
      "\tDefaultConnectionGene(key=(-1, 0), weight=-0.05480636070338218, enabled=True)\n",
      "\tDefaultConnectionGene(key=(-1, 1), weight=-0.16066120698580025, enabled=True)\n",
      "\tDefaultConnectionGene(key=(-1, 2), weight=1.0344853731398354, enabled=True)\n",
      "\n",
      "Output:\n",
      "input (21, 21, 21, 21, 21, 8, 21, 21, 21, 21, 21, 5), expected output (0, 1, 0), got [0.9999999999980986, 0.9999107810531465, 1.0]\n"
     ]
    },
    {
     "ename": "RuntimeError",
     "evalue": "Expected 2 inputs, got 12",
     "output_type": "error",
     "traceback": [
      "\u001b[1;31m---------------------------------------------------------------------------\u001b[0m",
      "\u001b[1;31mRuntimeError\u001b[0m                              Traceback (most recent call last)",
      "\u001b[1;32m<ipython-input-39-a44f2eac0bf4>\u001b[0m in \u001b[0;36m<module>\u001b[1;34m()\u001b[0m\n\u001b[0;32m      5\u001b[0m     \u001b[0mlocal_dir\u001b[0m \u001b[1;33m=\u001b[0m \u001b[0mos\u001b[0m\u001b[1;33m.\u001b[0m\u001b[0mpath\u001b[0m\u001b[1;33m.\u001b[0m\u001b[0mdirname\u001b[0m\u001b[1;33m(\u001b[0m\u001b[1;34m\".\"\u001b[0m\u001b[1;33m)\u001b[0m\u001b[1;33m\u001b[0m\u001b[0m\n\u001b[0;32m      6\u001b[0m     \u001b[0mconfig_path\u001b[0m \u001b[1;33m=\u001b[0m \u001b[0mos\u001b[0m\u001b[1;33m.\u001b[0m\u001b[0mpath\u001b[0m\u001b[1;33m.\u001b[0m\u001b[0mjoin\u001b[0m\u001b[1;33m(\u001b[0m\u001b[0mlocal_dir\u001b[0m\u001b[1;33m,\u001b[0m \u001b[1;34m'config-feedforward'\u001b[0m\u001b[1;33m)\u001b[0m\u001b[1;33m\u001b[0m\u001b[0m\n\u001b[1;32m----> 7\u001b[1;33m     \u001b[0mrun\u001b[0m\u001b[1;33m(\u001b[0m\u001b[0mconfig_path\u001b[0m\u001b[1;33m)\u001b[0m\u001b[1;33m\u001b[0m\u001b[0m\n\u001b[0m",
      "\u001b[1;32m<ipython-input-37-f94ad0e8f8c4>\u001b[0m in \u001b[0;36mrun\u001b[1;34m(config_file)\u001b[0m\n\u001b[0;32m     33\u001b[0m \u001b[1;33m\u001b[0m\u001b[0m\n\u001b[0;32m     34\u001b[0m     \u001b[0mp\u001b[0m \u001b[1;33m=\u001b[0m \u001b[0mneat\u001b[0m\u001b[1;33m.\u001b[0m\u001b[0mCheckpointer\u001b[0m\u001b[1;33m.\u001b[0m\u001b[0mrestore_checkpoint\u001b[0m\u001b[1;33m(\u001b[0m\u001b[1;34m'neat-checkpoint-4'\u001b[0m\u001b[1;33m)\u001b[0m\u001b[1;33m\u001b[0m\u001b[0m\n\u001b[1;32m---> 35\u001b[1;33m     \u001b[0mp\u001b[0m\u001b[1;33m.\u001b[0m\u001b[0mrun\u001b[0m\u001b[1;33m(\u001b[0m\u001b[0meval_genomes\u001b[0m\u001b[1;33m,\u001b[0m \u001b[1;36m10\u001b[0m\u001b[1;33m)\u001b[0m\u001b[1;33m\u001b[0m\u001b[0m\n\u001b[0m",
      "\u001b[1;32mc:\\users\\gabor\\appdata\\local\\programs\\python\\python35\\lib\\site-packages\\neat_python-0.92-py3.5.egg\\neat\\population.py\u001b[0m in \u001b[0;36mrun\u001b[1;34m(self, fitness_function, n)\u001b[0m\n\u001b[0;32m     87\u001b[0m \u001b[1;33m\u001b[0m\u001b[0m\n\u001b[0;32m     88\u001b[0m             \u001b[1;31m# Evaluate all genomes using the user-provided function.\u001b[0m\u001b[1;33m\u001b[0m\u001b[1;33m\u001b[0m\u001b[0m\n\u001b[1;32m---> 89\u001b[1;33m             \u001b[0mfitness_function\u001b[0m\u001b[1;33m(\u001b[0m\u001b[0mlist\u001b[0m\u001b[1;33m(\u001b[0m\u001b[0miteritems\u001b[0m\u001b[1;33m(\u001b[0m\u001b[0mself\u001b[0m\u001b[1;33m.\u001b[0m\u001b[0mpopulation\u001b[0m\u001b[1;33m)\u001b[0m\u001b[1;33m)\u001b[0m\u001b[1;33m,\u001b[0m \u001b[0mself\u001b[0m\u001b[1;33m.\u001b[0m\u001b[0mconfig\u001b[0m\u001b[1;33m)\u001b[0m\u001b[1;33m\u001b[0m\u001b[0m\n\u001b[0m\u001b[0;32m     90\u001b[0m \u001b[1;33m\u001b[0m\u001b[0m\n\u001b[0;32m     91\u001b[0m             \u001b[1;31m# Gather and report statistics.\u001b[0m\u001b[1;33m\u001b[0m\u001b[1;33m\u001b[0m\u001b[0m\n",
      "\u001b[1;32m<ipython-input-34-deb36f9af99d>\u001b[0m in \u001b[0;36meval_genomes\u001b[1;34m(genomes, config)\u001b[0m\n\u001b[0;32m      4\u001b[0m         \u001b[0mnet\u001b[0m \u001b[1;33m=\u001b[0m \u001b[0mneat\u001b[0m\u001b[1;33m.\u001b[0m\u001b[0mnn\u001b[0m\u001b[1;33m.\u001b[0m\u001b[0mFeedForwardNetwork\u001b[0m\u001b[1;33m.\u001b[0m\u001b[0mcreate\u001b[0m\u001b[1;33m(\u001b[0m\u001b[0mgenome\u001b[0m\u001b[1;33m,\u001b[0m \u001b[0mconfig\u001b[0m\u001b[1;33m)\u001b[0m\u001b[1;33m\u001b[0m\u001b[0m\n\u001b[0;32m      5\u001b[0m         \u001b[1;32mfor\u001b[0m \u001b[0mxi\u001b[0m\u001b[1;33m,\u001b[0m \u001b[0mxo\u001b[0m \u001b[1;32min\u001b[0m \u001b[0mzip\u001b[0m\u001b[1;33m(\u001b[0m\u001b[0mxor_inputs\u001b[0m\u001b[1;33m,\u001b[0m \u001b[0mxor_outputs\u001b[0m\u001b[1;33m)\u001b[0m\u001b[1;33m:\u001b[0m\u001b[1;33m\u001b[0m\u001b[0m\n\u001b[1;32m----> 6\u001b[1;33m             \u001b[0moutput\u001b[0m \u001b[1;33m=\u001b[0m \u001b[0mnet\u001b[0m\u001b[1;33m.\u001b[0m\u001b[0mactivate\u001b[0m\u001b[1;33m(\u001b[0m\u001b[0mxi\u001b[0m\u001b[1;33m)\u001b[0m\u001b[1;33m\u001b[0m\u001b[0m\n\u001b[0m\u001b[0;32m      7\u001b[0m             \u001b[1;31m#genome.fitness -= (output[0] - xo[0]) ** 2\u001b[0m\u001b[1;33m\u001b[0m\u001b[1;33m\u001b[0m\u001b[0m\n",
      "\u001b[1;32mc:\\users\\gabor\\appdata\\local\\programs\\python\\python35\\lib\\site-packages\\neat_python-0.92-py3.5.egg\\neat\\nn\\feed_forward.py\u001b[0m in \u001b[0;36mactivate\u001b[1;34m(self, inputs)\u001b[0m\n\u001b[0;32m     12\u001b[0m     \u001b[1;32mdef\u001b[0m \u001b[0mactivate\u001b[0m\u001b[1;33m(\u001b[0m\u001b[0mself\u001b[0m\u001b[1;33m,\u001b[0m \u001b[0minputs\u001b[0m\u001b[1;33m)\u001b[0m\u001b[1;33m:\u001b[0m\u001b[1;33m\u001b[0m\u001b[0m\n\u001b[0;32m     13\u001b[0m         \u001b[1;32mif\u001b[0m \u001b[0mlen\u001b[0m\u001b[1;33m(\u001b[0m\u001b[0mself\u001b[0m\u001b[1;33m.\u001b[0m\u001b[0minput_nodes\u001b[0m\u001b[1;33m)\u001b[0m \u001b[1;33m!=\u001b[0m \u001b[0mlen\u001b[0m\u001b[1;33m(\u001b[0m\u001b[0minputs\u001b[0m\u001b[1;33m)\u001b[0m\u001b[1;33m:\u001b[0m\u001b[1;33m\u001b[0m\u001b[0m\n\u001b[1;32m---> 14\u001b[1;33m             \u001b[1;32mraise\u001b[0m \u001b[0mRuntimeError\u001b[0m\u001b[1;33m(\u001b[0m\u001b[1;34m\"Expected {0:n} inputs, got {1:n}\"\u001b[0m\u001b[1;33m.\u001b[0m\u001b[0mformat\u001b[0m\u001b[1;33m(\u001b[0m\u001b[0mlen\u001b[0m\u001b[1;33m(\u001b[0m\u001b[0mself\u001b[0m\u001b[1;33m.\u001b[0m\u001b[0minput_nodes\u001b[0m\u001b[1;33m)\u001b[0m\u001b[1;33m,\u001b[0m \u001b[0mlen\u001b[0m\u001b[1;33m(\u001b[0m\u001b[0minputs\u001b[0m\u001b[1;33m)\u001b[0m\u001b[1;33m)\u001b[0m\u001b[1;33m)\u001b[0m\u001b[1;33m\u001b[0m\u001b[0m\n\u001b[0m\u001b[0;32m     15\u001b[0m \u001b[1;33m\u001b[0m\u001b[0m\n\u001b[0;32m     16\u001b[0m         \u001b[1;32mfor\u001b[0m \u001b[0mk\u001b[0m\u001b[1;33m,\u001b[0m \u001b[0mv\u001b[0m \u001b[1;32min\u001b[0m \u001b[0mzip\u001b[0m\u001b[1;33m(\u001b[0m\u001b[0mself\u001b[0m\u001b[1;33m.\u001b[0m\u001b[0minput_nodes\u001b[0m\u001b[1;33m,\u001b[0m \u001b[0minputs\u001b[0m\u001b[1;33m)\u001b[0m\u001b[1;33m:\u001b[0m\u001b[1;33m\u001b[0m\u001b[0m\n",
      "\u001b[1;31mRuntimeError\u001b[0m: Expected 2 inputs, got 12"
     ]
    }
   ],
   "source": [
    "if __name__ == '__main__':\n",
    "    # Determine path to configuration file. This path manipulation is\n",
    "    # here so that the script will run successfully regardless of the\n",
    "    # current working directory.\n",
    "    local_dir = os.path.dirname(\".\")\n",
    "    config_path = os.path.join(local_dir, 'config-feedforward')\n",
    "    run(config_path)"
   ]
  },
  {
   "cell_type": "code",
   "execution_count": 11,
   "metadata": {},
   "outputs": [],
   "source": []
  },
  {
   "cell_type": "code",
   "execution_count": null,
   "metadata": {},
   "outputs": [],
   "source": []
  }
 ],
 "metadata": {
  "kernelspec": {
   "display_name": "Python 3",
   "language": "python",
   "name": "python3"
  },
  "language_info": {
   "codemirror_mode": {
    "name": "ipython",
    "version": 3
   },
   "file_extension": ".py",
   "mimetype": "text/x-python",
   "name": "python",
   "nbconvert_exporter": "python",
   "pygments_lexer": "ipython3",
   "version": "3.5.0"
  }
 },
 "nbformat": 4,
 "nbformat_minor": 2
}
